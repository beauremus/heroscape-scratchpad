{
 "cells": [
  {
   "cell_type": "code",
   "execution_count": 1,
   "metadata": {},
   "outputs": [],
   "source": [
    "import numpy as np\n",
    "import matplotlib.pyplot as plt"
   ]
  },
  {
   "cell_type": "code",
   "execution_count": 2,
   "metadata": {},
   "outputs": [],
   "source": [
    "seed = 1337\n",
    "np.random.seed(seed)\n",
    "\n",
    "def roll_damage(n_attacking_dice = 3, n_defending_dice = 3):\n",
    "\n",
    "    successful_attacks = np.random.choice([0, 1], n_attacking_dice, p = [0.5, 0.5])\n",
    "    successful_defenses = np.random.choice([0, 1], n_defending_dice, p = [2.0 / 3.0, 1.0 / 3.0])\n",
    "\n",
    "    damage = max(successful_attacks.sum() - successful_defenses.sum(), 0)\n",
    "    return damage"
   ]
  },
  {
   "cell_type": "code",
   "execution_count": 3,
   "metadata": {},
   "outputs": [],
   "source": [
    "def get_samples(n_samples, n_attacking_dice, n_defending_dice):\n",
    "    samples = [roll_damage(n_attacking_dice, n_defending_dice) for _ in range(n_samples)]\n",
    "    return samples"
   ]
  },
  {
   "cell_type": "code",
   "execution_count": 4,
   "metadata": {},
   "outputs": [],
   "source": [
    "def get_probability_from_samples(samples):\n",
    "    values, counts = np.unique(samples, return_counts = True)\n",
    "    total = counts.sum()\n",
    "    probability = counts / total\n",
    "    return values, probability"
   ]
  },
  {
   "cell_type": "code",
   "execution_count": 5,
   "metadata": {},
   "outputs": [],
   "source": [
    "samples33 = get_samples(10000, 3, 3)\n",
    "values33, probs33 = get_probability_from_samples(samples33)"
   ]
  },
  {
   "cell_type": "code",
   "execution_count": 6,
   "metadata": {},
   "outputs": [],
   "source": [
    "samples34 = get_samples(10000, 3, 4)\n",
    "values34, probs34 = get_probability_from_samples(samples34)"
   ]
  },
  {
   "cell_type": "code",
   "execution_count": 7,
   "metadata": {},
   "outputs": [
    {
     "data": {
      "image/png": "[encoded data removed]",
      "text/plain": [
       "<Figure size 432x288 with 1 Axes>"
      ]
     },
     "metadata": {
      "needs_background": "light"
     },
     "output_type": "display_data"
    }
   ],
   "source": [
    "plt.plot(values33, probs33, marker = \"o\")\n",
    "plt.plot(values34, probs34, marker = \"o\")\n",
    "plt.xlabel(\"Damage Roll\")\n",
    "plt.ylabel(\"Probability\")\n",
    "# plt.title(\"\")\n",
    "\n",
    "plt.show()\n",
    "plt.close()"
   ]
  },
  {
   "cell_type": "code",
   "execution_count": 8,
   "metadata": {},
   "outputs": [],
   "source": [
    "class Character():\n",
    "    def __init__(self, health = 10, n_attacking_dice = 3, n_defending_dice = 3):\n",
    "        self.health_ = health\n",
    "        self.n_attacking_dice_ = n_attacking_dice\n",
    "        self.n_defending_dice_ = n_defending_dice\n",
    "        \n",
    "    def roll_damage(self):\n",
    "        successful_attacks = np.random.choice([0, 1], self.n_attacking_dice_, p = [0.5, 0.5])\n",
    "        return successful_attacks.sum()\n",
    "\n",
    "    def roll_defense(self):\n",
    "        successful_defenses = np.random.choice([0, 1], self.n_defending_dice_, p = [2.0 / 3.0, 1.0 / 3.0])\n",
    "        return successful_defenses.sum()\n",
    "    \n",
    "    def apply_damage(self, dmg):\n",
    "        self.health_ = self.health_ - dmg\n",
    "        \n",
    "    def apply_healing(self, healing):\n",
    "        self.apply_damage(-healing)\n",
    "        \n",
    "    def is_dead(self):\n",
    "        return self.health_ <= 0\n",
    "    \n",
    "    def is_alive(self):\n",
    "        return (not self.is_dead())"
   ]
  },
  {
   "cell_type": "code",
   "execution_count": 131,
   "metadata": {},
   "outputs": [],
   "source": [
    "def have_a_fight():\n",
    "    \n",
    "    # Build battlefield\n",
    "    char_a = Character(health = 10, n_attacking_dice = 3, n_defending_dice = 3)\n",
    "    char_b = Character(health = 10, n_attacking_dice = 3, n_defending_dice = 3)\n",
    "\n",
    "    # Set up turn order\n",
    "    init = np.random.randint(2)\n",
    "    chars = [char_a, char_b]\n",
    "\n",
    "    # Establish round loop and win conditions\n",
    "    while char_a.is_alive() and char_b.is_alive():\n",
    "\n",
    "        # Determine a / d.\n",
    "        a = init\n",
    "        d = (init + 1) % 2\n",
    "\n",
    "        # Summarize a and d\n",
    "        damage = chars[a].roll_damage()\n",
    "        defense = chars[d].roll_defense()\n",
    "\n",
    "        # Resolve hit.\n",
    "        damage = np.max([damage - defense, 0])\n",
    "\n",
    "        # Apply effects:\n",
    "        chars[d].apply_damage(damage)\n",
    "\n",
    "        # Update init.\n",
    "        init = d\n",
    "\n",
    "    # Determine winner.\n",
    "    if char_a.is_alive():\n",
    "        return 0\n",
    "    elif char_b.is_alive():\n",
    "        return 1\n",
    "    else:\n",
    "        print(\"OMFG WTF.\")"
   ]
  },
  {
   "cell_type": "code",
   "execution_count": 132,
   "metadata": {},
   "outputs": [],
   "source": [
    "fights = [have_a_fight() for _ in range(1000)]"
   ]
  },
  {
   "cell_type": "code",
   "execution_count": 133,
   "metadata": {},
   "outputs": [
    {
     "data": {
      "text/plain": [
       "852.0"
      ]
     },
     "execution_count": 133,
     "metadata": {},
     "output_type": "execute_result"
    },
    {
     "data": {
      "image/png": "[encoded data removed]",
      "text/plain": [
       "<Figure size 432x288 with 1 Axes>"
      ]
     },
     "metadata": {
      "needs_background": "light"
     },
     "output_type": "display_data"
    }
   ],
   "source": [
    "results = plt.hist(fights)\n",
    "results[0][0] - results[0][-1] - 22"
   ]
  },
  {
   "cell_type": "code",
   "execution_count": null,
   "metadata": {},
   "outputs": [],
   "source": [
    "#even = 22\n",
    "#1 health = 162\n",
    "#1 attack = 682\n",
    "#1 defense = 448\n",
    "#first initiative = 110"
   ]
  },
  {
   "cell_type": "code",
   "execution_count": null,
   "metadata": {},
   "outputs": [],
   "source": []
  }
 ],
 "metadata": {
  "kernelspec": {
   "display_name": "Python 3",
   "language": "python",
   "name": "python3"
  },
  "language_info": {
   "codemirror_mode": {
    "name": "ipython",
    "version": 3
   },
   "file_extension": ".py",
   "mimetype": "text/x-python",
   "name": "python",
   "nbconvert_exporter": "python",
   "pygments_lexer": "ipython3",
   "version": "3.8.2"
  }
 },
 "nbformat": 4,
 "nbformat_minor": 2
}
